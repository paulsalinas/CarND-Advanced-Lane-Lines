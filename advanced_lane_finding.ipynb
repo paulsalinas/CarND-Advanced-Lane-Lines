{
 "cells": [
  {
   "cell_type": "markdown",
   "metadata": {
    "deletable": true,
    "editable": true
   },
   "source": [
    "## Advanced Lane Finding Project\n",
    "\n",
    "The goals / steps of this project are the following:\n",
    "\n",
    "* Compute the camera calibration matrix and distortion coefficients given a set of chessboard images.\n",
    "* Apply a distortion correction to raw images.\n",
    "* Use color transforms, gradients, etc., to create a thresholded binary image.\n",
    "* Apply a perspective transform to rectify binary image (\"birds-eye view\").\n",
    "* Detect lane pixels and fit to find the lane boundary.\n",
    "* Determine the curvature of the lane and vehicle position with respect to center.\n",
    "* Warp the detected lane boundaries back onto the original image.\n",
    "* Output visual display of the lane boundaries and numerical estimation of lane curvature and vehicle position.\n",
    "\n",
    "---\n",
    "## First, I'll compute the camera calibration using chessboard images"
   ]
  },
  {
   "cell_type": "code",
   "execution_count": 1,
   "metadata": {
    "collapsed": false,
    "deletable": true,
    "editable": true
   },
   "outputs": [],
   "source": [
    "import numpy as np\n",
    "import cv2\n",
    "import glob\n",
    "import matplotlib.pyplot as plt\n",
    "%matplotlib qt\n",
    "\n",
    "from utils import get_calibration_points, undistorter_from_pickle\n",
    "%matplotlib qt\n",
    "\n",
    "objpoints, imgpoints = get_calibration_points()\n",
    "\n",
    "##\n",
    "# Apply the objpoints and imgpoints to get the calibration results\n",
    "# Use the calibration results to undistort a test image. Visualize the result\n",
    "##\n",
    "#%%\n",
    "import pickle\n",
    "%matplotlib inline\n",
    "\n",
    "# Test undistortion on an image\n",
    "img = cv2.imread('./camera_cal/calibration1.jpg')\n",
    "img_size = (img.shape[1], img.shape[0])\n",
    "\n",
    "# Do camera calibration given object points and image points\n",
    "ret, mtx, dist, rvecs, tvecs = cv2.calibrateCamera(\n",
    "    objpoints,\n",
    "    imgpoints,\n",
    "    img_size,\n",
    "    None,\n",
    "    None)\n",
    "\n",
    "# Save the camera calibration result for later use (we won't worry about\n",
    "# rvecs / tvecs)\n",
    "pickle_path = \"./wide_dist_pickle.p\"\n",
    "dist_pickle = {}\n",
    "dist_pickle[\"dist\"] = dist\n",
    "dist_pickle[\"mtx\"] = mtx\n",
    "pickle.dump(dist_pickle, open(pickle_path, \"wb\"))"
   ]
  },
  {
   "cell_type": "code",
   "execution_count": 2,
   "metadata": {
    "collapsed": true,
    "deletable": true,
    "editable": true
   },
   "outputs": [],
   "source": [
    "undistort_img = undistorter_from_pickle(pickle_path)"
   ]
  },
  {
   "cell_type": "code",
   "execution_count": 3,
   "metadata": {
    "collapsed": true
   },
   "outputs": [],
   "source": [
    "from utils import pipeline"
   ]
  },
  {
   "cell_type": "code",
   "execution_count": 4,
   "metadata": {
    "collapsed": true
   },
   "outputs": [],
   "source": [
    "from utils import get_warper_from_image_shape\n",
    "test_image = cv2.imread('./test_images/straight_lines1.jpg')\n",
    "warper = get_warper_from_image_shape(test_image.shape)"
   ]
  },
  {
   "cell_type": "code",
   "execution_count": 5,
   "metadata": {
    "collapsed": false
   },
   "outputs": [],
   "source": [
    "from line import Line\n",
    "from line import LaneLines\n",
    "from utils import sliding_windows, next_frame, get_drawable_lanes, visualize_lines_on_image, get_curvature\n",
    "import math\n",
    "\n",
    "lane_lines = LaneLines()\n",
    "\n",
    "def process_image(image):\n",
    "    \n",
    "    undistorted_image = undistort_img(image)\n",
    "    pipelined_image = pipeline(undistorted_image)\n",
    "    warped = warper(pipelined_image)\n",
    "    \n",
    "    lane_lines.process_warped_image(warped)\n",
    "    \n",
    "    left_fitx, right_fitx, ploty = get_drawable_lanes(\n",
    "        lane_lines.left_line.current_fit, \n",
    "        lane_lines.right_line.current_fit, \n",
    "        warped.shape\n",
    "    )\n",
    "\n",
    "    return visualize_lines_on_image(ploty, left_fitx, right_fitx, warped)\n",
    "    \n",
    "    "
   ]
  },
  {
   "cell_type": "code",
   "execution_count": 6,
   "metadata": {
    "collapsed": true
   },
   "outputs": [],
   "source": [
    "# Import everything needed to edit/save/watch video clips\n",
    "from moviepy.editor import VideoFileClip\n",
    "from IPython.display import HTML"
   ]
  },
  {
   "cell_type": "code",
   "execution_count": 7,
   "metadata": {
    "collapsed": false
   },
   "outputs": [
    {
     "name": "stdout",
     "output_type": "stream",
     "text": [
      "[MoviePy] >>>> Building video lane_found_output.mp4\n",
      "[MoviePy] Writing video lane_found_output.mp4\n"
     ]
    },
    {
     "name": "stderr",
     "output_type": "stream",
     "text": [
      "100%|█████████▉| 1260/1261 [03:05<00:00,  6.51it/s]\n"
     ]
    },
    {
     "name": "stdout",
     "output_type": "stream",
     "text": [
      "[MoviePy] Done.\n",
      "[MoviePy] >>>> Video ready: lane_found_output.mp4 \n",
      "\n",
      "CPU times: user 2min 49s, sys: 52.3 s, total: 3min 41s\n",
      "Wall time: 3min 5s\n"
     ]
    }
   ],
   "source": [
    "video_output = 'lane_found_output.mp4'\n",
    "clip1 = VideoFileClip(\"project_video.mp4\")\n",
    "white_clip = clip1.fl_image(process_image) #NOTE: this function expects color images!!\n",
    "%time white_clip.write_videofile(video_output, audio=False)"
   ]
  },
  {
   "cell_type": "code",
   "execution_count": 8,
   "metadata": {
    "collapsed": false
   },
   "outputs": [
    {
     "data": {
      "text/html": [
       "\n",
       "<video width=\"960\" height=\"540\" controls>\n",
       "  <source src=\"lane_found_output.mp4\">\n",
       "</video>\n"
      ],
      "text/plain": [
       "<IPython.core.display.HTML object>"
      ]
     },
     "execution_count": 8,
     "metadata": {},
     "output_type": "execute_result"
    }
   ],
   "source": [
    "HTML(\"\"\"\n",
    "<video width=\"960\" height=\"540\" controls>\n",
    "  <source src=\"{0}\">\n",
    "</video>\n",
    "\"\"\".format(video_output))"
   ]
  }
 ],
 "metadata": {
  "anaconda-cloud": {},
  "kernelspec": {
   "display_name": "Python 3",
   "language": "python",
   "name": "python3"
  },
  "language_info": {
   "codemirror_mode": {
    "name": "ipython",
    "version": 3
   },
   "file_extension": ".py",
   "mimetype": "text/x-python",
   "name": "python",
   "nbconvert_exporter": "python",
   "pygments_lexer": "ipython3",
   "version": "3.5.2"
  },
  "widgets": {
   "state": {},
   "version": "1.1.2"
  }
 },
 "nbformat": 4,
 "nbformat_minor": 1
}
