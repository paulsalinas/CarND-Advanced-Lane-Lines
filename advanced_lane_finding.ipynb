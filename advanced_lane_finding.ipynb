{
 "cells": [
  {
   "cell_type": "markdown",
   "metadata": {
    "deletable": true,
    "editable": true
   },
   "source": [
    "## Advanced Lane Finding Project\n",
    "\n",
    "The goals / steps of this project are the following:\n",
    "\n",
    "* Compute the camera calibration matrix and distortion coefficients given a set of chessboard images.\n",
    "* Apply a distortion correction to raw images.\n",
    "* Use color transforms, gradients, etc., to create a thresholded binary image.\n",
    "* Apply a perspective transform to rectify binary image (\"birds-eye view\").\n",
    "* Detect lane pixels and fit to find the lane boundary.\n",
    "* Determine the curvature of the lane and vehicle position with respect to center.\n",
    "* Warp the detected lane boundaries back onto the original image.\n",
    "* Output visual display of the lane boundaries and numerical estimation of lane curvature and vehicle position.\n",
    "\n",
    "---\n",
    "## First, I'll compute the camera calibration using chessboard images"
   ]
  },
  {
   "cell_type": "code",
   "execution_count": 1,
   "metadata": {
    "collapsed": false,
    "deletable": true,
    "editable": true
   },
   "outputs": [],
   "source": [
    "import numpy as np\n",
    "import cv2\n",
    "import glob\n",
    "import matplotlib.pyplot as plt\n",
    "%matplotlib qt\n",
    "\n",
    "from utils import get_calibration_points, undistorter_from_pickle\n",
    "%matplotlib qt\n",
    "\n",
    "objpoints, imgpoints = get_calibration_points()\n",
    "\n",
    "##\n",
    "# Apply the objpoints and imgpoints to get the calibration results\n",
    "# Use the calibration results to undistort a test image. Visualize the result\n",
    "##\n",
    "#%%\n",
    "import pickle\n",
    "%matplotlib inline\n",
    "\n",
    "# Test undistortion on an image\n",
    "img = cv2.imread('./camera_cal/calibration1.jpg')\n",
    "img_size = (img.shape[1], img.shape[0])\n",
    "\n",
    "# Do camera calibration given object points and image points\n",
    "ret, mtx, dist, rvecs, tvecs = cv2.calibrateCamera(\n",
    "    objpoints,\n",
    "    imgpoints,\n",
    "    img_size,\n",
    "    None,\n",
    "    None)\n",
    "\n",
    "# Save the camera calibration result for later use (we won't worry about\n",
    "# rvecs / tvecs)\n",
    "pickle_path = \"./wide_dist_pickle.p\"\n",
    "dist_pickle = {}\n",
    "dist_pickle[\"dist\"] = dist\n",
    "dist_pickle[\"mtx\"] = mtx\n",
    "pickle.dump(dist_pickle, open(pickle_path, \"wb\"))"
   ]
  },
  {
   "cell_type": "code",
   "execution_count": 2,
   "metadata": {
    "collapsed": true,
    "deletable": true,
    "editable": true
   },
   "outputs": [],
   "source": [
    "undistort_img = undistorter_from_pickle(pickle_path)"
   ]
  },
  {
   "cell_type": "code",
   "execution_count": 3,
   "metadata": {
    "collapsed": true
   },
   "outputs": [],
   "source": [
    "from utils import pipeline"
   ]
  },
  {
   "cell_type": "code",
   "execution_count": 4,
   "metadata": {
    "collapsed": true
   },
   "outputs": [],
   "source": [
    "from utils import get_warper_from_image_shape\n",
    "test_image = cv2.imread('./test_images/straight_lines1.jpg')\n",
    "warper = get_warper_from_image_shape(test_image.shape)"
   ]
  },
  {
   "cell_type": "code",
   "execution_count": 6,
   "metadata": {
    "collapsed": false
   },
   "outputs": [],
   "source": [
    "from line import Line\n",
    "from utils import sliding_windows, next_frame\n",
    "\n",
    "left_lane = Line()\n",
    "right_lane = Line()\n",
    "\n",
    "def process_image(image):\n",
    "    piplined_image = pipeline(undistort_img(image))\n",
    "    warped = warper(image)\n",
    "    \n",
    "    if left_lane.detected and right_lane.detected:\n",
    "        _, _, _, left_lane_inds, right_lane_inds, left_fit, right_fit = sliding_windows(warped)\n",
    "    \n",
    "        left_lane.current_fit = left_fit\n",
    "        right_lane.current_fit = right_fit\n",
    "    else:\n",
    "        _, _,left_fit, right_fit = next_frame(left_lane.current_fit, right_lane.current_fit, warped)\n",
    "    \n",
    "    \n",
    "    \n",
    "    "
   ]
  },
  {
   "cell_type": "code",
   "execution_count": null,
   "metadata": {
    "collapsed": true
   },
   "outputs": [],
   "source": [
    "# Import everything needed to edit/save/watch video clips\n",
    "from moviepy.editor import VideoFileClip\n",
    "from IPython.display import HTML"
   ]
  },
  {
   "cell_type": "code",
   "execution_count": null,
   "metadata": {
    "collapsed": true
   },
   "outputs": [],
   "source": [
    "video_output = 'lane_found_output.mp4'\n",
    "clip1 = VideoFileClip(\"project_video.mp4\")\n",
    "white_clip = clip1.fl_image(process_image) #NOTE: this function expects color images!!\n",
    "%time white_clip.write_videofile(white_output, audio=False)"
   ]
  }
 ],
 "metadata": {
  "anaconda-cloud": {},
  "kernelspec": {
   "display_name": "Python 3",
   "language": "python",
   "name": "python3"
  },
  "language_info": {
   "codemirror_mode": {
    "name": "ipython",
    "version": 3
   },
   "file_extension": ".py",
   "mimetype": "text/x-python",
   "name": "python",
   "nbconvert_exporter": "python",
   "pygments_lexer": "ipython3",
   "version": "3.5.2"
  },
  "widgets": {
   "state": {},
   "version": "1.1.2"
  }
 },
 "nbformat": 4,
 "nbformat_minor": 1
}
